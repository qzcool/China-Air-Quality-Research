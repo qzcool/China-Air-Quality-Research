{
  "cells": [
    {
      "cell_type": "markdown",
      "source": [
        "Notes:\n",
        "1. Needs to convert .csv to .csv(utf-8) in case of UnicodeError\n",
        "2. Data source: http://www.stateair.net/web/historical/1/1.html\n",
        "3. Air Quality Index Scale and Color Legend: http://aqicn.org/scale/cn/\n",
        "\n",
        "Improvements:\n",
        "\n",
        "1. Bokeh to generate dynamic graphs, even on the same graph\n",
        "2. More types of graphs to show\n",
        "3. Bokeh server connection to display on the Internet\n",
        "4. Display multiple years on one chart using Widgets\n",
        "\n",
        "Exploratory Topics:\n",
        "1. Whats the extreme days (PM2.5>300/200/150/100) percentage/distribution for each year?\n",
        "2. Whats the good days (PM2.5<50) percentage/distribution for each year?"
      ],
      "metadata": {}
    },
    {
      "cell_type": "code",
      "source": [
        "import numpy as np\n",
        "import pandas as pd \n",
        "from bokeh.charts import Histogram\n",
        "from bokeh.plotting import show, output_notebook\n",
        "    \n",
        "#2012-2017\n",
        "result = {}\n",
        "for m in range(0,6):\n",
        "    if m == 2:\n",
        "        d = pd.read_csv(\"./Chengdu_\"+str(int(2012)+m)+\".csv\")\n",
        "        s = d['Value'].loc[1:len(d)]    \n",
        "        s.astype(int)\n",
        "    else:\n",
        "        d = pd.read_csv(\"./Chengdu_\"+str(int(2012)+m)+\".csv\")\n",
        "        s = d.column9.loc[0:len(d)-4]\n",
        "        s.astype(int)\n",
        "    #p = Histogram(s, title='Beijing Air Pollution Histogram')\n",
        "    #output_notebook()\n",
        "    #show(p)\n",
        "    \n",
        "    count_extreme = 0\n",
        "    count_good = 0\n",
        "    \n",
        "    for i in range(0, len(s)):\n",
        "        individualvalue = int(s.iloc[i])\n",
        "        if individualvalue > 200:\n",
        "            count_extreme += 1\n",
        "        elif individualvalue < 50:\n",
        "            count_good += 1\n",
        "        \n",
        "    percent_extreme = count_extreme/len(s)\n",
        "    percent_good = count_good/len(s)\n",
        "    mean = round(np.mean(s))\n",
        "    \n",
        "    ratio = pd.Series([\"{:.2%}\".format(percent_extreme), \"{:.2%}\".format(percent_good), mean], index=['percent_extreme', 'percent_good', 'mean'])\n",
        "    result[int(2012)+m] = ratio\n",
        "    "
      ],
      "outputs": [],
      "execution_count": 155,
      "metadata": {
        "scrolled": true
      }
    },
    {
      "cell_type": "code",
      "source": [
        "df = pd.DataFrame(result)\n",
        "df"
      ],
      "outputs": [
        {
          "output_type": "execute_result",
          "execution_count": 162,
          "data": {
            "text/plain": [
              "                   2012    2013    2014    2015    2016    2017\n",
              "percent_extreme   4.35%   9.38%   3.82%   2.86%   1.37%   2.34%\n",
              "percent_good     25.79%  26.97%  31.33%  38.52%  36.24%  38.62%\n",
              "mean                 85      97      82      73      73      70"
            ],
            "text/html": [
              "<div>\n",
              "<style>\n",
              "    .dataframe thead tr:only-child th {\n",
              "        text-align: right;\n",
              "    }\n",
              "\n",
              "    .dataframe thead th {\n",
              "        text-align: left;\n",
              "    }\n",
              "\n",
              "    .dataframe tbody tr th {\n",
              "        vertical-align: top;\n",
              "    }\n",
              "</style>\n",
              "<table border=\"1\" class=\"dataframe\">\n",
              "  <thead>\n",
              "    <tr style=\"text-align: right;\">\n",
              "      <th></th>\n",
              "      <th>2012</th>\n",
              "      <th>2013</th>\n",
              "      <th>2014</th>\n",
              "      <th>2015</th>\n",
              "      <th>2016</th>\n",
              "      <th>2017</th>\n",
              "    </tr>\n",
              "  </thead>\n",
              "  <tbody>\n",
              "    <tr>\n",
              "      <th>percent_extreme</th>\n",
              "      <td>4.35%</td>\n",
              "      <td>9.38%</td>\n",
              "      <td>3.82%</td>\n",
              "      <td>2.86%</td>\n",
              "      <td>1.37%</td>\n",
              "      <td>2.34%</td>\n",
              "    </tr>\n",
              "    <tr>\n",
              "      <th>percent_good</th>\n",
              "      <td>25.79%</td>\n",
              "      <td>26.97%</td>\n",
              "      <td>31.33%</td>\n",
              "      <td>38.52%</td>\n",
              "      <td>36.24%</td>\n",
              "      <td>38.62%</td>\n",
              "    </tr>\n",
              "    <tr>\n",
              "      <th>mean</th>\n",
              "      <td>85</td>\n",
              "      <td>97</td>\n",
              "      <td>82</td>\n",
              "      <td>73</td>\n",
              "      <td>73</td>\n",
              "      <td>70</td>\n",
              "    </tr>\n",
              "  </tbody>\n",
              "</table>\n",
              "</div>"
            ]
          },
          "metadata": {}
        }
      ],
      "execution_count": 162,
      "metadata": {
        "collapsed": false,
        "outputHidden": false,
        "inputHidden": false
      }
    },
    {
      "cell_type": "code",
      "source": [
        "# Create a Pandas Excel writer using XlsxWriter as the engine.\n",
        "writer = pd.ExcelWriter('AirPollutionResult_Chengdu.xlsx', engine='xlsxwriter')\n",
        "# Convert the dataframe to an XlsxWriter Excel object.\n",
        "df.to_excel(writer, sheet_name='Status Ratio')\n",
        "\n",
        "# Close the Pandas Excel writer and output the Excel file.\n",
        "writer.save()"
      ],
      "outputs": [],
      "execution_count": 163,
      "metadata": {
        "collapsed": false,
        "outputHidden": false,
        "inputHidden": false
      }
    },
    {
      "cell_type": "code",
      "source": [
        "d = pd.read_csv(\"./Chengdu_\"+str(int(2012)+4)+\".csv\")\n",
        "s = d['column9'].loc[1:len(d)-3]\n",
        "        \n",
        "s\n"
      ],
      "outputs": [
        {
          "output_type": "execute_result",
          "execution_count": 154,
          "data": {
            "text/plain": [
              "1       221.0\n",
              "2       204.0\n",
              "3       190.0\n",
              "4       195.0\n",
              "5       196.0\n",
              "6       190.0\n",
              "7       206.0\n",
              "8       207.0\n",
              "9       210.0\n",
              "10      205.0\n",
              "11      206.0\n",
              "12      209.0\n",
              "13      200.0\n",
              "14      184.0\n",
              "15      148.0\n",
              "16      121.0\n",
              "17      131.0\n",
              "18      139.0\n",
              "19      153.0\n",
              "20      183.0\n",
              "21      177.0\n",
              "22      211.0\n",
              "23      209.0\n",
              "24      227.0\n",
              "25      224.0\n",
              "26      226.0\n",
              "27      226.0\n",
              "28      213.0\n",
              "29      210.0\n",
              "30      211.0\n",
              "        ...  \n",
              "8632    117.0\n",
              "8633    116.0\n",
              "8634    114.0\n",
              "8635    109.0\n",
              "8636    110.0\n",
              "8637    104.0\n",
              "8638    102.0\n",
              "8639    103.0\n",
              "8640     96.0\n",
              "8641     95.0\n",
              "8642    109.0\n",
              "8643    107.0\n",
              "8644    105.0\n",
              "8645    108.0\n",
              "8646    112.0\n",
              "8647    121.0\n",
              "8648    136.0\n",
              "8649    148.0\n",
              "8650    141.0\n",
              "8651    138.0\n",
              "8652    133.0\n",
              "8653    134.0\n",
              "8654    136.0\n",
              "8655    173.0\n",
              "8656    168.0\n",
              "8657    154.0\n",
              "8658    136.0\n",
              "8659    157.0\n",
              "8660    152.0\n",
              "8661      NaN\n",
              "Name: column9, Length: 8661, dtype: float64"
            ]
          },
          "metadata": {}
        }
      ],
      "execution_count": 154,
      "metadata": {
        "collapsed": false,
        "outputHidden": false,
        "inputHidden": false
      }
    }
  ],
  "metadata": {
    "kernelspec": {
      "name": "python3",
      "language": "python",
      "display_name": "Python 3"
    },
    "language_info": {
      "name": "python",
      "version": "3.6.2",
      "mimetype": "text/x-python",
      "codemirror_mode": {
        "name": "ipython",
        "version": 3
      },
      "pygments_lexer": "ipython3",
      "nbconvert_exporter": "python",
      "file_extension": ".py"
    },
    "kernel_info": {
      "name": "python3"
    },
    "nteract": {
      "version": "0.4.0"
    }
  },
  "nbformat": 4,
  "nbformat_minor": 2
}