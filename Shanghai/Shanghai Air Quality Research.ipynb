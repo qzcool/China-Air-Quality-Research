{
  "cells": [
    {
      "cell_type": "markdown",
      "source": [
        "Notes:\n",
        "1. Needs to convert .csv to .csv(utf-8) in case of UnicodeError\n",
        "2. Data source: http://www.stateair.net/web/historical/1/1.html\n",
        "3. Air Quality Index Scale and Color Legend: http://aqicn.org/scale/cn/\n",
        "\n",
        "Improvements:\n",
        "\n",
        "1. Bokeh to generate dynamic graphs, even on the same graph\n",
        "2. More types of graphs to show\n",
        "3. Bokeh server connection to display on the Internet\n",
        "4. Display multiple years on one chart using Widgets\n",
        "\n",
        "Exploratory Topics:\n",
        "1. Whats the extreme days (PM2.5>300/200/150/100) percentage/distribution for each year?\n",
        "2. Whats the good days (PM2.5<50) percentage/distribution for each year?"
      ],
      "metadata": {}
    },
    {
      "cell_type": "code",
      "source": [
        "import numpy as np\n",
        "import pandas as pd \n",
        "from bokeh.charts import Histogram\n",
        "from bokeh.plotting import show, output_notebook\n",
        "    \n",
        "#2011-2017\n",
        "result = {}\n",
        "for m in range(0,7):\n",
        "    d = pd.read_csv(\"./Shanghai_\"+str(int(2011)+m)+\".csv\")\n",
        "    s = d['column9'].loc[4:].astype(str).astype(float)\n",
        "    #p = Histogram(s, title='Beijing Air Pollution Histogram')\n",
        "    #output_notebook()\n",
        "    #show(p)\n",
        "    \n",
        "    count_extreme = 0\n",
        "    count_good = 0\n",
        "    \n",
        "    for i in range(0, len(s)):\n",
        "        individualvalue = s.iloc[i]\n",
        "        if individualvalue > 200:\n",
        "            count_extreme += 1\n",
        "        elif individualvalue < 50:\n",
        "            count_good += 1\n",
        "        \n",
        "    percent_extreme = count_extreme/len(s)\n",
        "    percent_good = count_good/len(s)\n",
        "    #print (\"The average PM2.5 value in\",str(int(2008)+i),\"is\",round(np.mean(s,2),\".\")\n",
        "    mean = round(np.mean(s))\n",
        "    \n",
        "    ratio = pd.Series([\"{:.2%}\".format(percent_extreme), \"{:.2%}\".format(percent_good), mean], index=['percent_extreme', 'percent_good', 'mean'])\n",
        "    result[int(2011)+m] = ratio\n",
        "    "
      ],
      "outputs": [],
      "execution_count": 20,
      "metadata": {
        "scrolled": true
      }
    },
    {
      "cell_type": "code",
      "source": [
        "df = pd.DataFrame(result)\n",
        "df"
      ],
      "outputs": [
        {
          "output_type": "execute_result",
          "execution_count": 21,
          "data": {
            "text/plain": [
              "                   2011    2012    2013    2014    2015    2016    2017\n",
              "percent_extreme   0.00%   0.67%   2.32%   0.53%   1.16%   0.09%   0.00%\n",
              "percent_good     48.68%  60.29%  56.00%  62.06%  63.81%  65.89%  63.97%\n",
              "mean                 59      50      60      50      51      46      45"
            ],
            "text/html": [
              "<div>\n",
              "<style>\n",
              "    .dataframe thead tr:only-child th {\n",
              "        text-align: right;\n",
              "    }\n",
              "\n",
              "    .dataframe thead th {\n",
              "        text-align: left;\n",
              "    }\n",
              "\n",
              "    .dataframe tbody tr th {\n",
              "        vertical-align: top;\n",
              "    }\n",
              "</style>\n",
              "<table border=\"1\" class=\"dataframe\">\n",
              "  <thead>\n",
              "    <tr style=\"text-align: right;\">\n",
              "      <th></th>\n",
              "      <th>2011</th>\n",
              "      <th>2012</th>\n",
              "      <th>2013</th>\n",
              "      <th>2014</th>\n",
              "      <th>2015</th>\n",
              "      <th>2016</th>\n",
              "      <th>2017</th>\n",
              "    </tr>\n",
              "  </thead>\n",
              "  <tbody>\n",
              "    <tr>\n",
              "      <th>percent_extreme</th>\n",
              "      <td>0.00%</td>\n",
              "      <td>0.67%</td>\n",
              "      <td>2.32%</td>\n",
              "      <td>0.53%</td>\n",
              "      <td>1.16%</td>\n",
              "      <td>0.09%</td>\n",
              "      <td>0.00%</td>\n",
              "    </tr>\n",
              "    <tr>\n",
              "      <th>percent_good</th>\n",
              "      <td>48.68%</td>\n",
              "      <td>60.29%</td>\n",
              "      <td>56.00%</td>\n",
              "      <td>62.06%</td>\n",
              "      <td>63.81%</td>\n",
              "      <td>65.89%</td>\n",
              "      <td>63.97%</td>\n",
              "    </tr>\n",
              "    <tr>\n",
              "      <th>mean</th>\n",
              "      <td>59</td>\n",
              "      <td>50</td>\n",
              "      <td>60</td>\n",
              "      <td>50</td>\n",
              "      <td>51</td>\n",
              "      <td>46</td>\n",
              "      <td>45</td>\n",
              "    </tr>\n",
              "  </tbody>\n",
              "</table>\n",
              "</div>"
            ]
          },
          "metadata": {}
        }
      ],
      "execution_count": 21,
      "metadata": {
        "collapsed": false,
        "outputHidden": false,
        "inputHidden": false
      }
    },
    {
      "cell_type": "code",
      "source": [
        "# Create a Pandas Excel writer using XlsxWriter as the engine.\n",
        "writer = pd.ExcelWriter('AirPollutionResult_Shanghai.xlsx', engine='xlsxwriter')\n",
        "\n",
        "# Convert the dataframe to an XlsxWriter Excel object.\n",
        "df.to_excel(writer, sheet_name='Status Ratio')\n",
        "\n",
        "# Close the Pandas Excel writer and output the Excel file.\n",
        "writer.save()"
      ],
      "outputs": [],
      "execution_count": 22,
      "metadata": {
        "collapsed": false,
        "outputHidden": false,
        "inputHidden": false
      }
    }
  ],
  "metadata": {
    "kernelspec": {
      "name": "python3",
      "language": "python",
      "display_name": "Python 3"
    },
    "language_info": {
      "name": "python",
      "version": "3.6.2",
      "mimetype": "text/x-python",
      "codemirror_mode": {
        "name": "ipython",
        "version": 3
      },
      "pygments_lexer": "ipython3",
      "nbconvert_exporter": "python",
      "file_extension": ".py"
    },
    "kernel_info": {
      "name": "python3"
    },
    "nteract": {
      "version": "0.4.0"
    }
  },
  "nbformat": 4,
  "nbformat_minor": 2
}