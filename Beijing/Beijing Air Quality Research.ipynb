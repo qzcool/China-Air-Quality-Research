{
 "cells": [
  {
   "cell_type": "markdown",
   "metadata": {},
   "source": [
    "Improvements:\n",
    "\n",
    "1. Bokeh to generate dynamic graphs, even on the same graph.\n",
    "2. More types of graphs to show"
   ]
  },
  {
   "cell_type": "code",
   "execution_count": 70,
   "metadata": {
    "scrolled": true
   },
   "outputs": [
    {
     "name": "stdout",
     "output_type": "stream",
     "text": [
      "The average PM2.5 value in 2008 is 85.09 .\n"
     ]
    },
    {
     "data": {
      "image/png": "[encoded data removed]",
      "text/plain": [
       "<matplotlib.figure.Figure at 0x2449a389668>"
      ]
     },
     "metadata": {},
     "output_type": "display_data"
    }
   ],
   "source": [
    "import numpy as np\n",
    "import pandas as pd\n",
    "import matplotlib.pyplot as plt\n",
    "%matplotlib inline  \n",
    "\n",
    "#08\n",
    "for i in range(0,1):\n",
    "    df08 = pd.read_csv(\"./Beijing_\"+str(int(2008)+i)+\".csv\")\n",
    "    s08 = df08['column9'].loc[4:].astype(str).astype(int)\n",
    "    plt.hist(s08, bins = 'auto')\n",
    "    \n",
    "    print (\"The average PM2.5 value in\",str(int(2008)+i),\"is\",round(np.mean(df08['column9'].loc[4:].astype(str).astype(int)),2),\".\")"
   ]
  },
  {
   "cell_type": "code",
   "execution_count": 71,
   "metadata": {},
   "outputs": [
    {
     "name": "stdout",
     "output_type": "stream",
     "text": [
      "The average PM2.5 value in 2009 is 101.81 .\n"
     ]
    },
    {
     "data": {
      "image/png": "[encoded data removed]",
      "text/plain": [
       "<matplotlib.figure.Figure at 0x24498676e48>"
      ]
     },
     "metadata": {},
     "output_type": "display_data"
    }
   ],
   "source": [
    "#09\n",
    "for i in range(1,2):\n",
    "    df08 = pd.read_csv(\"./Beijing_\"+str(int(2008)+i)+\".csv\")\n",
    "    s08 = df08['column9'].loc[4:].astype(str).astype(int)\n",
    "    plt.hist(s08, bins = 'auto')\n",
    "    \n",
    "    print (\"The average PM2.5 value in\",str(int(2008)+i),\"is\",round(np.mean(df08['column9'].loc[4:].astype(str).astype(int)),2),\".\")"
   ]
  },
  {
   "cell_type": "code",
   "execution_count": 73,
   "metadata": {},
   "outputs": [
    {
     "name": "stdout",
     "output_type": "stream",
     "text": [
      "The average PM2.5 value in 2010 is 104.05 .\n"
     ]
    },
    {
     "data": {
      "image/png": "[encoded data removed]",
      "text/plain": [
       "<matplotlib.figure.Figure at 0x244987a5358>"
      ]
     },
     "metadata": {},
     "output_type": "display_data"
    }
   ],
   "source": [
    "#10\n",
    "for i in range(2,3):\n",
    "    df08 = pd.read_csv(\"./Beijing_\"+str(int(2008)+i)+\".csv\")\n",
    "    s08 = df08['column9'].loc[4:].astype(str).astype(int)\n",
    "    plt.hist(s08, bins = 'auto')\n",
    "    \n",
    "    print (\"The average PM2.5 value in\",str(int(2008)+i),\"is\",round(np.mean(df08['column9'].loc[4:].astype(str).astype(int)),2),\".\")"
   ]
  },
  {
   "cell_type": "code",
   "execution_count": 74,
   "metadata": {},
   "outputs": [
    {
     "name": "stdout",
     "output_type": "stream",
     "text": [
      "The average PM2.5 value in 2011 is 99.09 .\n"
     ]
    },
    {
     "data": {
      "image/png": "[encoded data removed]",
      "text/plain": [
       "<matplotlib.figure.Figure at 0x2449a525128>"
      ]
     },
     "metadata": {},
     "output_type": "display_data"
    }
   ],
   "source": [
    "#11\n",
    "for i in range(3,4):\n",
    "    df08 = pd.read_csv(\"./Beijing_\"+str(int(2008)+i)+\".csv\")\n",
    "    s08 = df08['column9'].loc[4:].astype(str).astype(int)\n",
    "    plt.hist(s08, bins = 'auto')\n",
    "    \n",
    "    print (\"The average PM2.5 value in\",str(int(2008)+i),\"is\",round(np.mean(df08['column9'].loc[4:].astype(str).astype(int)),2),\".\")"
   ]
  },
  {
   "cell_type": "code",
   "execution_count": 75,
   "metadata": {},
   "outputs": [
    {
     "name": "stdout",
     "output_type": "stream",
     "text": [
      "The average PM2.5 value in 2012 is 90.52 .\n"
     ]
    },
    {
     "data": {
      "image/png": "[encoded data removed]",
      "text/plain": [
       "<matplotlib.figure.Figure at 0x24498686630>"
      ]
     },
     "metadata": {},
     "output_type": "display_data"
    }
   ],
   "source": [
    "#12\n",
    "for i in range(4,5):\n",
    "    df08 = pd.read_csv(\"./Beijing_\"+str(int(2008)+i)+\".csv\")\n",
    "    s08 = df08['column9'].loc[4:].astype(str).astype(int)\n",
    "    plt.hist(s08, bins = 'auto')\n",
    "    \n",
    "    print (\"The average PM2.5 value in\",str(int(2008)+i),\"is\",round(np.mean(df08['column9'].loc[4:].astype(str).astype(int)),2),\".\")"
   ]
  },
  {
   "cell_type": "code",
   "execution_count": 76,
   "metadata": {},
   "outputs": [
    {
     "name": "stdout",
     "output_type": "stream",
     "text": [
      "The average PM2.5 value in 2013 is 101.71 .\n"
     ]
    },
    {
     "data": {
      "image/png": "[encoded data removed]",
      "text/plain": [
       "<matplotlib.figure.Figure at 0x244985c8710>"
      ]
     },
     "metadata": {},
     "output_type": "display_data"
    }
   ],
   "source": [
    "#13\n",
    "for i in range(5,6):\n",
    "    df08 = pd.read_csv(\"./Beijing_\"+str(int(2008)+i)+\".csv\")\n",
    "    s08 = df08['column9'].loc[4:].astype(str).astype(int)\n",
    "    plt.hist(s08, bins = 'auto')\n",
    "    \n",
    "    print (\"The average PM2.5 value in\",str(int(2008)+i),\"is\",round(np.mean(df08['column9'].loc[4:].astype(str).astype(int)),2),\".\")"
   ]
  },
  {
   "cell_type": "code",
   "execution_count": 77,
   "metadata": {},
   "outputs": [
    {
     "name": "stdout",
     "output_type": "stream",
     "text": [
      "The average PM2.5 value in 2014 is 97.73 .\n"
     ]
    },
    {
     "data": {
      "image/png": "[encoded data removed]",
      "text/plain": [
       "<matplotlib.figure.Figure at 0x24498ade630>"
      ]
     },
     "metadata": {},
     "output_type": "display_data"
    }
   ],
   "source": [
    "#14\n",
    "for i in range(6,7):\n",
    "    df08 = pd.read_csv(\"./Beijing_\"+str(int(2008)+i)+\".csv\")\n",
    "    s08 = df08['column9'].loc[4:].astype(str).astype(int)\n",
    "    plt.hist(s08, bins = 'auto')\n",
    "    \n",
    "    print (\"The average PM2.5 value in\",str(int(2008)+i),\"is\",round(np.mean(df08['column9'].loc[4:].astype(str).astype(int)),2),\".\")"
   ]
  },
  {
   "cell_type": "code",
   "execution_count": 78,
   "metadata": {},
   "outputs": [
    {
     "name": "stdout",
     "output_type": "stream",
     "text": [
      "The average PM2.5 value in 2015 is 82.73 .\n"
     ]
    },
    {
     "data": {
      "image/png": "[encoded data removed]",
      "text/plain": [
       "<matplotlib.figure.Figure at 0x24499d236a0>"
      ]
     },
     "metadata": {},
     "output_type": "display_data"
    }
   ],
   "source": [
    "#15\n",
    "for i in range(7,8):\n",
    "    df08 = pd.read_csv(\"./Beijing_\"+str(int(2008)+i)+\".csv\")\n",
    "    s08 = df08['column9'].loc[4:].astype(str).astype(int)\n",
    "    plt.hist(s08, bins = 'auto')\n",
    "    \n",
    "    print (\"The average PM2.5 value in\",str(int(2008)+i),\"is\",round(np.mean(df08['column9'].loc[4:].astype(str).astype(int)),2),\".\")"
   ]
  },
  {
   "cell_type": "code",
   "execution_count": 79,
   "metadata": {},
   "outputs": [
    {
     "name": "stdout",
     "output_type": "stream",
     "text": [
      "The average PM2.5 value in 2016 is 72.86 .\n"
     ]
    },
    {
     "data": {
      "image/png": "[encoded data removed]",
      "text/plain": [
       "<matplotlib.figure.Figure at 0x2449a20c6d8>"
      ]
     },
     "metadata": {},
     "output_type": "display_data"
    }
   ],
   "source": [
    "#16\n",
    "for i in range(8,9):\n",
    "    df08 = pd.read_csv(\"./Beijing_\"+str(int(2008)+i)+\".csv\")\n",
    "    s08 = df08['column9'].loc[4:].astype(str).astype(int)\n",
    "    plt.hist(s08, bins = 'auto')\n",
    "    \n",
    "    print (\"The average PM2.5 value in\",str(int(2008)+i),\"is\",round(np.mean(df08['column9'].loc[4:].astype(str).astype(int)),2),\".\")"
   ]
  },
  {
   "cell_type": "code",
   "execution_count": 80,
   "metadata": {},
   "outputs": [
    {
     "name": "stdout",
     "output_type": "stream",
     "text": [
      "The average PM2.5 value in 2017 is 70.13 .\n"
     ]
    },
    {
     "data": {
      "image/png": "[encoded data removed]",
      "text/plain": [
       "<matplotlib.figure.Figure at 0x244989941d0>"
      ]
     },
     "metadata": {},
     "output_type": "display_data"
    }
   ],
   "source": [
    "#17\n",
    "for i in range(9,10):\n",
    "    df08 = pd.read_csv(\"./Beijing_\"+str(int(2008)+i)+\".csv\")\n",
    "    s08 = df08['column9'].loc[4:].astype(str).astype(int)\n",
    "    plt.hist(s08, bins = 'auto')\n",
    "    \n",
    "    print (\"The average PM2.5 value in\",str(int(2008)+i),\"is\",round(np.mean(df08['column9'].loc[4:].astype(str).astype(int)),2),\".\")"
   ]
  },
  {
   "cell_type": "code",
   "execution_count": null,
   "metadata": {
    "collapsed": true
   },
   "outputs": [],
   "source": []
  },
  {
   "cell_type": "code",
   "execution_count": null,
   "metadata": {
    "collapsed": true
   },
   "outputs": [],
   "source": []
  }
 ],
 "metadata": {
  "kernelspec": {
   "display_name": "Python 3",
   "language": "python",
   "name": "python3"
  },
  "language_info": {
   "codemirror_mode": {
    "name": "ipython",
    "version": 3
   },
   "file_extension": ".py",
   "mimetype": "text/x-python",
   "name": "python",
   "nbconvert_exporter": "python",
   "pygments_lexer": "ipython3",
   "version": "3.6.1"
  }
 },
 "nbformat": 4,
 "nbformat_minor": 2
}
