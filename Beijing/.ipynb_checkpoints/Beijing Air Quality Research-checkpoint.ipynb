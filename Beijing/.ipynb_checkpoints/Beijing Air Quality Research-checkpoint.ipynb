{
 "cells": [
  {
   "cell_type": "markdown",
   "metadata": {},
   "source": [
    "Notes:\n",
    "1. Needs to convert .csv to .csv(utf-8) in case of UnicodeError.\n",
    "2. Data source: http://www.stateair.net/web/historical/1/1.html\n",
    "3. Air Quality Index Scale and Color Legend: http://aqicn.org/scale/cn/\n",
    "\n",
    "Improvements:\n",
    "\n",
    "1. Bokeh to generate dynamic graphs, even on the same graph.\n",
    "2. More types of graphs to show\n",
    "\n",
    "Exploratory Topics:\n",
    "1. Whats the extreme days (PM2.5>300/200/150/100) percentage/distribution for each year?\n",
    "2. Whats the good days (PM2.5<50) percentage/distribution for each year?"
   ]
  },
  {
   "cell_type": "code",
   "execution_count": 2,
   "metadata": {
    "scrolled": true
   },
   "outputs": [],
   "source": [
    "import numpy as np\n",
    "import pandas as pd \n",
    "from bokeh.charts import Histogram\n",
    "from bokeh.io import output_notebook, show \n",
    "#from bokeh.io import output_file, show \n",
    "\n",
    "#2008-2017\n",
    "for i in range(0,1):\n",
    "    df = pd.read_csv(\"./Beijing_\"+str(int(2008)+i)+\".csv\")\n",
    "    s = df['column9'].loc[4:].astype(str).astype(float)\n",
    "    p = Histogram(s, title='Beijing Air Pollution Histogram')\n",
    "    output_notebook()\n",
    "    #output_file('Beijing_Air_Pollution_Histogram.html', mode='cdn')\n",
    "    \n",
    "    #print (\"The average PM2.5 value in\",str(int(2008)+i),\"is\",round(np.mean(df['column9'].loc[4:].astype(str).astype(int)),2),\".\")"
   ]
  },
  {
   "cell_type": "code",
   "execution_count": null,
   "metadata": {
    "collapsed": true
   },
   "outputs": [],
   "source": []
  }
 ],
 "metadata": {
  "kernel_info": {
   "name": "python3"
  },
  "kernelspec": {
   "display_name": "Python 3",
   "language": "python",
   "name": "python3"
  },
  "language_info": {
   "codemirror_mode": {
    "name": "ipython",
    "version": 3
   },
   "file_extension": ".py",
   "mimetype": "text/x-python",
   "name": "python",
   "nbconvert_exporter": "python",
   "pygments_lexer": "ipython3",
   "version": "3.6.2"
  },
  "nteract": {
   "version": "0.4.0"
  }
 },
 "nbformat": 4,
 "nbformat_minor": 2
}
